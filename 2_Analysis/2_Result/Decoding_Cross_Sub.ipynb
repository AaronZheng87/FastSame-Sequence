{
 "cells": [
  {
   "attachments": {},
   "cell_type": "markdown",
   "metadata": {},
   "source": [
    "# Decoding Cross Subjects"
   ]
  },
  {
   "attachments": {},
   "cell_type": "markdown",
   "metadata": {},
   "source": [
    "## Import the modules"
   ]
  },
  {
   "cell_type": "code",
   "execution_count": 1,
   "metadata": {},
   "outputs": [],
   "source": [
    "import os \n",
    "import numpy as np\n",
    "import pandas as pd\n",
    "import matplotlib.pyplot as plt\n",
    "from sklearn.pipeline import make_pipeline\n",
    "from sklearn.linear_model import LogisticRegression\n",
    "from sklearn.ensemble import RandomForestClassifier\n",
    "from sklearn.preprocessing import StandardScaler\n",
    "from sklearn.preprocessing import MinMaxScaler\n",
    "from sklearn.model_selection import LeaveOneGroupOut\n",
    "from sklearn.model_selection import cross_validate\n",
    "from sklearn.model_selection import permutation_test_score\n",
    "from sklearn.metrics import make_scorer\n",
    "from sklearn.metrics import roc_auc_score\n",
    "from collections import Counter\n",
    "%matplotlib inline"
   ]
  },
  {
   "attachments": {},
   "cell_type": "markdown",
   "metadata": {},
   "source": [
    "### Define the score function for estimate the Roc Auc score"
   ]
  },
  {
   "cell_type": "code",
   "execution_count": 2,
   "metadata": {},
   "outputs": [],
   "source": [
    "def score_func(y, y_pred):\n",
    "    score = roc_auc_score(y, y_pred, multi_class=\"ovo\")\n",
    "    return score"
   ]
  },
  {
   "cell_type": "code",
   "execution_count": 3,
   "metadata": {},
   "outputs": [],
   "source": [
    "my_scores = make_scorer(score_func=score_func, greater_is_better=True, needs_proba=True, needs_threshold=False)"
   ]
  },
  {
   "attachments": {},
   "cell_type": "markdown",
   "metadata": {},
   "source": [
    "## Set the path and load the dataset"
   ]
  },
  {
   "cell_type": "code",
   "execution_count": 4,
   "metadata": {},
   "outputs": [
    {
     "data": {
      "text/plain": [
       "'/Users/zhengyuanrui/FastSame-Sequence/2_Analysis/2_Result'"
      ]
     },
     "execution_count": 4,
     "metadata": {},
     "output_type": "execute_result"
    }
   ],
   "source": [
    "os.getcwd()"
   ]
  },
  {
   "cell_type": "code",
   "execution_count": 5,
   "metadata": {},
   "outputs": [],
   "source": [
    "os.chdir(\"../../1_Data/2_Postpro_data\")"
   ]
  },
  {
   "cell_type": "code",
   "execution_count": 6,
   "metadata": {},
   "outputs": [],
   "source": [
    "df = pd.read_csv(\"Exp2_RT.csv\")"
   ]
  },
  {
   "cell_type": "code",
   "execution_count": 7,
   "metadata": {},
   "outputs": [
    {
     "data": {
      "text/html": [
       "<div>\n",
       "<style scoped>\n",
       "    .dataframe tbody tr th:only-of-type {\n",
       "        vertical-align: middle;\n",
       "    }\n",
       "\n",
       "    .dataframe tbody tr th {\n",
       "        vertical-align: top;\n",
       "    }\n",
       "\n",
       "    .dataframe thead th {\n",
       "        text-align: right;\n",
       "    }\n",
       "</style>\n",
       "<table border=\"1\" class=\"dataframe\">\n",
       "  <thead>\n",
       "    <tr style=\"text-align: right;\">\n",
       "      <th></th>\n",
       "      <th>subj_idx</th>\n",
       "      <th>gender</th>\n",
       "      <th>year</th>\n",
       "      <th>education</th>\n",
       "      <th>dist</th>\n",
       "      <th>trial_type</th>\n",
       "      <th>rt</th>\n",
       "      <th>response</th>\n",
       "      <th>key_press</th>\n",
       "      <th>condition</th>\n",
       "      <th>correct_response</th>\n",
       "      <th>correct</th>\n",
       "      <th>word</th>\n",
       "      <th>Image</th>\n",
       "      <th>shape_en</th>\n",
       "      <th>valence</th>\n",
       "      <th>ACC</th>\n",
       "      <th>exp</th>\n",
       "      <th>matchness</th>\n",
       "      <th>trial_id</th>\n",
       "    </tr>\n",
       "  </thead>\n",
       "  <tbody>\n",
       "    <tr>\n",
       "      <th>0</th>\n",
       "      <td>1</td>\n",
       "      <td>0</td>\n",
       "      <td>2000</td>\n",
       "      <td>5</td>\n",
       "      <td>408.81</td>\n",
       "      <td>psychophysics</td>\n",
       "      <td>822</td>\n",
       "      <td>f</td>\n",
       "      <td>f</td>\n",
       "      <td>image_first</td>\n",
       "      <td>f</td>\n",
       "      <td>True</td>\n",
       "      <td>常人</td>\n",
       "      <td>img/S_ambi40.png</td>\n",
       "      <td>square</td>\n",
       "      <td>Neutral</td>\n",
       "      <td>1</td>\n",
       "      <td>exp2</td>\n",
       "      <td>mismatch</td>\n",
       "      <td>1</td>\n",
       "    </tr>\n",
       "    <tr>\n",
       "      <th>1</th>\n",
       "      <td>1</td>\n",
       "      <td>0</td>\n",
       "      <td>2000</td>\n",
       "      <td>5</td>\n",
       "      <td>408.81</td>\n",
       "      <td>psychophysics</td>\n",
       "      <td>741</td>\n",
       "      <td>f</td>\n",
       "      <td>f</td>\n",
       "      <td>image_first</td>\n",
       "      <td>f</td>\n",
       "      <td>True</td>\n",
       "      <td>好人</td>\n",
       "      <td>img/T_ambi40.png</td>\n",
       "      <td>triangle</td>\n",
       "      <td>Good</td>\n",
       "      <td>1</td>\n",
       "      <td>exp2</td>\n",
       "      <td>mismatch</td>\n",
       "      <td>2</td>\n",
       "    </tr>\n",
       "    <tr>\n",
       "      <th>2</th>\n",
       "      <td>1</td>\n",
       "      <td>0</td>\n",
       "      <td>2000</td>\n",
       "      <td>5</td>\n",
       "      <td>408.81</td>\n",
       "      <td>psychophysics</td>\n",
       "      <td>781</td>\n",
       "      <td>j</td>\n",
       "      <td>j</td>\n",
       "      <td>image_first</td>\n",
       "      <td>j</td>\n",
       "      <td>True</td>\n",
       "      <td>常人</td>\n",
       "      <td>img/T_ambi40.png</td>\n",
       "      <td>triangle</td>\n",
       "      <td>Neutral</td>\n",
       "      <td>1</td>\n",
       "      <td>exp2</td>\n",
       "      <td>match</td>\n",
       "      <td>3</td>\n",
       "    </tr>\n",
       "    <tr>\n",
       "      <th>3</th>\n",
       "      <td>1</td>\n",
       "      <td>0</td>\n",
       "      <td>2000</td>\n",
       "      <td>5</td>\n",
       "      <td>408.81</td>\n",
       "      <td>psychophysics</td>\n",
       "      <td>683</td>\n",
       "      <td>f</td>\n",
       "      <td>f</td>\n",
       "      <td>image_first</td>\n",
       "      <td>f</td>\n",
       "      <td>True</td>\n",
       "      <td>坏人</td>\n",
       "      <td>img/C_ambi40.png</td>\n",
       "      <td>circle</td>\n",
       "      <td>Bad</td>\n",
       "      <td>1</td>\n",
       "      <td>exp2</td>\n",
       "      <td>mismatch</td>\n",
       "      <td>4</td>\n",
       "    </tr>\n",
       "    <tr>\n",
       "      <th>4</th>\n",
       "      <td>1</td>\n",
       "      <td>0</td>\n",
       "      <td>2000</td>\n",
       "      <td>5</td>\n",
       "      <td>408.81</td>\n",
       "      <td>psychophysics</td>\n",
       "      <td>599</td>\n",
       "      <td>j</td>\n",
       "      <td>j</td>\n",
       "      <td>image_first</td>\n",
       "      <td>j</td>\n",
       "      <td>True</td>\n",
       "      <td>常人</td>\n",
       "      <td>img/T_ambi40.png</td>\n",
       "      <td>triangle</td>\n",
       "      <td>Neutral</td>\n",
       "      <td>1</td>\n",
       "      <td>exp2</td>\n",
       "      <td>match</td>\n",
       "      <td>5</td>\n",
       "    </tr>\n",
       "  </tbody>\n",
       "</table>\n",
       "</div>"
      ],
      "text/plain": [
       "   subj_idx  gender  year  education    dist     trial_type   rt response  \\\n",
       "0         1       0  2000          5  408.81  psychophysics  822        f   \n",
       "1         1       0  2000          5  408.81  psychophysics  741        f   \n",
       "2         1       0  2000          5  408.81  psychophysics  781        j   \n",
       "3         1       0  2000          5  408.81  psychophysics  683        f   \n",
       "4         1       0  2000          5  408.81  psychophysics  599        j   \n",
       "\n",
       "  key_press    condition correct_response  correct word             Image  \\\n",
       "0         f  image_first                f     True   常人  img/S_ambi40.png   \n",
       "1         f  image_first                f     True   好人  img/T_ambi40.png   \n",
       "2         j  image_first                j     True   常人  img/T_ambi40.png   \n",
       "3         f  image_first                f     True   坏人  img/C_ambi40.png   \n",
       "4         j  image_first                j     True   常人  img/T_ambi40.png   \n",
       "\n",
       "   shape_en  valence  ACC   exp matchness  trial_id  \n",
       "0    square  Neutral    1  exp2  mismatch         1  \n",
       "1  triangle     Good    1  exp2  mismatch         2  \n",
       "2  triangle  Neutral    1  exp2     match         3  \n",
       "3    circle      Bad    1  exp2  mismatch         4  \n",
       "4  triangle  Neutral    1  exp2     match         5  "
      ]
     },
     "execution_count": 7,
     "metadata": {},
     "output_type": "execute_result"
    }
   ],
   "source": [
    "df.head()"
   ]
  },
  {
   "attachments": {},
   "cell_type": "markdown",
   "metadata": {},
   "source": [
    "## Select the columns and split the dataset by condition"
   ]
  },
  {
   "cell_type": "code",
   "execution_count": 8,
   "metadata": {},
   "outputs": [],
   "source": [
    "column = ['subj_idx', 'gender', 'year','education', 'condition', 'valence', 'matchness', 'rt', 'ACC']"
   ]
  },
  {
   "cell_type": "code",
   "execution_count": 9,
   "metadata": {},
   "outputs": [],
   "source": [
    "df = df[column]"
   ]
  },
  {
   "cell_type": "code",
   "execution_count": 10,
   "metadata": {},
   "outputs": [
    {
     "data": {
      "text/html": [
       "<div>\n",
       "<style scoped>\n",
       "    .dataframe tbody tr th:only-of-type {\n",
       "        vertical-align: middle;\n",
       "    }\n",
       "\n",
       "    .dataframe tbody tr th {\n",
       "        vertical-align: top;\n",
       "    }\n",
       "\n",
       "    .dataframe thead th {\n",
       "        text-align: right;\n",
       "    }\n",
       "</style>\n",
       "<table border=\"1\" class=\"dataframe\">\n",
       "  <thead>\n",
       "    <tr style=\"text-align: right;\">\n",
       "      <th></th>\n",
       "      <th>subj_idx</th>\n",
       "      <th>gender</th>\n",
       "      <th>year</th>\n",
       "      <th>education</th>\n",
       "      <th>condition</th>\n",
       "      <th>valence</th>\n",
       "      <th>matchness</th>\n",
       "      <th>rt</th>\n",
       "      <th>ACC</th>\n",
       "    </tr>\n",
       "  </thead>\n",
       "  <tbody>\n",
       "    <tr>\n",
       "      <th>0</th>\n",
       "      <td>1</td>\n",
       "      <td>0</td>\n",
       "      <td>2000</td>\n",
       "      <td>5</td>\n",
       "      <td>image_first</td>\n",
       "      <td>Neutral</td>\n",
       "      <td>mismatch</td>\n",
       "      <td>822</td>\n",
       "      <td>1</td>\n",
       "    </tr>\n",
       "    <tr>\n",
       "      <th>1</th>\n",
       "      <td>1</td>\n",
       "      <td>0</td>\n",
       "      <td>2000</td>\n",
       "      <td>5</td>\n",
       "      <td>image_first</td>\n",
       "      <td>Good</td>\n",
       "      <td>mismatch</td>\n",
       "      <td>741</td>\n",
       "      <td>1</td>\n",
       "    </tr>\n",
       "    <tr>\n",
       "      <th>2</th>\n",
       "      <td>1</td>\n",
       "      <td>0</td>\n",
       "      <td>2000</td>\n",
       "      <td>5</td>\n",
       "      <td>image_first</td>\n",
       "      <td>Neutral</td>\n",
       "      <td>match</td>\n",
       "      <td>781</td>\n",
       "      <td>1</td>\n",
       "    </tr>\n",
       "    <tr>\n",
       "      <th>3</th>\n",
       "      <td>1</td>\n",
       "      <td>0</td>\n",
       "      <td>2000</td>\n",
       "      <td>5</td>\n",
       "      <td>image_first</td>\n",
       "      <td>Bad</td>\n",
       "      <td>mismatch</td>\n",
       "      <td>683</td>\n",
       "      <td>1</td>\n",
       "    </tr>\n",
       "    <tr>\n",
       "      <th>4</th>\n",
       "      <td>1</td>\n",
       "      <td>0</td>\n",
       "      <td>2000</td>\n",
       "      <td>5</td>\n",
       "      <td>image_first</td>\n",
       "      <td>Neutral</td>\n",
       "      <td>match</td>\n",
       "      <td>599</td>\n",
       "      <td>1</td>\n",
       "    </tr>\n",
       "  </tbody>\n",
       "</table>\n",
       "</div>"
      ],
      "text/plain": [
       "   subj_idx  gender  year  education    condition  valence matchness   rt  ACC\n",
       "0         1       0  2000          5  image_first  Neutral  mismatch  822    1\n",
       "1         1       0  2000          5  image_first     Good  mismatch  741    1\n",
       "2         1       0  2000          5  image_first  Neutral     match  781    1\n",
       "3         1       0  2000          5  image_first      Bad  mismatch  683    1\n",
       "4         1       0  2000          5  image_first  Neutral     match  599    1"
      ]
     },
     "execution_count": 10,
     "metadata": {},
     "output_type": "execute_result"
    }
   ],
   "source": [
    "df.head()"
   ]
  },
  {
   "cell_type": "code",
   "execution_count": 11,
   "metadata": {},
   "outputs": [],
   "source": [
    "df[\"valence\"] = df[\"valence\"].map(dict(Neutral=0, Bad=1, Good=2))\n",
    "df[\"matchness\"] = df[\"matchness\"].map(dict(mismatch=0, match=1))"
   ]
  },
  {
   "attachments": {},
   "cell_type": "markdown",
   "metadata": {},
   "source": [
    "Check the basic information of df"
   ]
  },
  {
   "cell_type": "code",
   "execution_count": 12,
   "metadata": {},
   "outputs": [
    {
     "name": "stdout",
     "output_type": "stream",
     "text": [
      "<class 'pandas.core.frame.DataFrame'>\n",
      "RangeIndex: 16943 entries, 0 to 16942\n",
      "Data columns (total 9 columns):\n",
      " #   Column     Non-Null Count  Dtype \n",
      "---  ------     --------------  ----- \n",
      " 0   subj_idx   16943 non-null  int64 \n",
      " 1   gender     16943 non-null  int64 \n",
      " 2   year       16943 non-null  int64 \n",
      " 3   education  16943 non-null  int64 \n",
      " 4   condition  16943 non-null  object\n",
      " 5   valence    16943 non-null  int64 \n",
      " 6   matchness  16943 non-null  int64 \n",
      " 7   rt         16943 non-null  int64 \n",
      " 8   ACC        16943 non-null  int64 \n",
      "dtypes: int64(8), object(1)\n",
      "memory usage: 1.2+ MB\n"
     ]
    }
   ],
   "source": [
    "df.info()"
   ]
  },
  {
   "attachments": {},
   "cell_type": "markdown",
   "metadata": {},
   "source": [
    "### Check the distribution of the reaction time"
   ]
  },
  {
   "cell_type": "code",
   "execution_count": 13,
   "metadata": {},
   "outputs": [
    {
     "data": {
      "text/plain": [
       "(array([ 172., 2523., 5297., 4351., 2325., 1166.,  552.,  322.,  154.,\n",
       "          81.]),\n",
       " array([ 307. ,  425.8,  544.6,  663.4,  782.2,  901. , 1019.8, 1138.6,\n",
       "        1257.4, 1376.2, 1495. ]),\n",
       " <BarContainer object of 10 artists>)"
      ]
     },
     "execution_count": 13,
     "metadata": {},
     "output_type": "execute_result"
    },
    {
     "data": {
      "image/png": "[encoded data removed]",
      "text/plain": [
       "<Figure size 640x480 with 1 Axes>"
      ]
     },
     "metadata": {},
     "output_type": "display_data"
    }
   ],
   "source": [
    "plt.hist(df['rt'])"
   ]
  },
  {
   "attachments": {},
   "cell_type": "markdown",
   "metadata": {},
   "source": [
    "log transform on the reaction time"
   ]
  },
  {
   "cell_type": "code",
   "execution_count": 14,
   "metadata": {},
   "outputs": [],
   "source": [
    "df['rt_log'] = np.log(df['rt'])"
   ]
  },
  {
   "cell_type": "code",
   "execution_count": 15,
   "metadata": {},
   "outputs": [
    {
     "data": {
      "text/plain": [
       "(array([  14.,  142.,  943., 2993., 4525., 4032., 2382., 1164.,  542.,\n",
       "         206.]),\n",
       " array([5.72684775, 5.88515112, 6.0434545 , 6.20175787, 6.36006124,\n",
       "        6.51836462, 6.67666799, 6.83497136, 6.99327474, 7.15157811,\n",
       "        7.30988149]),\n",
       " <BarContainer object of 10 artists>)"
      ]
     },
     "execution_count": 15,
     "metadata": {},
     "output_type": "execute_result"
    },
    {
     "data": {
      "image/png": "[encoded data removed]",
      "text/plain": [
       "<Figure size 640x480 with 1 Axes>"
      ]
     },
     "metadata": {},
     "output_type": "display_data"
    }
   ],
   "source": [
    "plt.hist(df['rt_log'])"
   ]
  },
  {
   "cell_type": "code",
   "execution_count": 16,
   "metadata": {},
   "outputs": [
    {
     "data": {
      "text/plain": [
       "array(['image_first', 'word_first', 'simultaneous'], dtype=object)"
      ]
     },
     "execution_count": 16,
     "metadata": {},
     "output_type": "execute_result"
    }
   ],
   "source": [
    "df.condition.unique()"
   ]
  },
  {
   "cell_type": "code",
   "execution_count": 17,
   "metadata": {},
   "outputs": [],
   "source": [
    "df_sim = df.query(\"condition == 'simultaneous'\")"
   ]
  },
  {
   "cell_type": "code",
   "execution_count": 18,
   "metadata": {},
   "outputs": [],
   "source": [
    "df_img = df.query(\"condition == 'image_first'\")"
   ]
  },
  {
   "cell_type": "code",
   "execution_count": 19,
   "metadata": {},
   "outputs": [],
   "source": [
    "df_word = df.query(\"condition == 'word_first'\")"
   ]
  },
  {
   "cell_type": "code",
   "execution_count": 20,
   "metadata": {},
   "outputs": [
    {
     "data": {
      "text/plain": [
       "Counter({1: 5604})"
      ]
     },
     "execution_count": 20,
     "metadata": {},
     "output_type": "execute_result"
    }
   ],
   "source": [
    "Counter(df_sim[\"ACC\"])"
   ]
  },
  {
   "cell_type": "code",
   "execution_count": 21,
   "metadata": {},
   "outputs": [
    {
     "data": {
      "text/plain": [
       "Counter({1: 5662})"
      ]
     },
     "execution_count": 21,
     "metadata": {},
     "output_type": "execute_result"
    }
   ],
   "source": [
    "Counter(df_word[\"ACC\"])"
   ]
  },
  {
   "cell_type": "code",
   "execution_count": 22,
   "metadata": {},
   "outputs": [
    {
     "data": {
      "text/plain": [
       "Counter({1: 5677})"
      ]
     },
     "execution_count": 22,
     "metadata": {},
     "output_type": "execute_result"
    }
   ],
   "source": [
    "Counter(df_img[\"ACC\"])"
   ]
  },
  {
   "attachments": {},
   "cell_type": "markdown",
   "metadata": {},
   "source": [
    "# valence as the dependent variable"
   ]
  },
  {
   "attachments": {},
   "cell_type": "markdown",
   "metadata": {},
   "source": [
    "## Make pipeline "
   ]
  },
  {
   "cell_type": "code",
   "execution_count": 23,
   "metadata": {},
   "outputs": [],
   "source": [
    "pipe_lr = make_pipeline(\n",
    "    MinMaxScaler(), \n",
    "    LogisticRegression(solver='saga', multi_class=\"multinomial\", max_iter=1000, random_state=123)\n",
    ")"
   ]
  },
  {
   "cell_type": "code",
   "execution_count": 24,
   "metadata": {},
   "outputs": [],
   "source": [
    "pipe_rf = make_pipeline(\n",
    "    MinMaxScaler(), \n",
    "   RandomForestClassifier(n_estimators=10, bootstrap=False, random_state=123, class_weight=\"balanced\", max_samples=None, n_jobs=-1)\n",
    ")"
   ]
  },
  {
   "cell_type": "code",
   "execution_count": 25,
   "metadata": {},
   "outputs": [],
   "source": [
    "logo = LeaveOneGroupOut()"
   ]
  },
  {
   "attachments": {},
   "cell_type": "markdown",
   "metadata": {},
   "source": [
    "## Analysis for the condition of simultaneous"
   ]
  },
  {
   "cell_type": "code",
   "execution_count": 26,
   "metadata": {},
   "outputs": [],
   "source": [
    "y_sim = df_sim[\"valence\"].values"
   ]
  },
  {
   "cell_type": "code",
   "execution_count": 27,
   "metadata": {},
   "outputs": [
    {
     "data": {
      "text/plain": [
       "Counter({1: 1823, 0: 1886, 2: 1895})"
      ]
     },
     "execution_count": 27,
     "metadata": {},
     "output_type": "execute_result"
    }
   ],
   "source": [
    "Counter(y_sim)"
   ]
  },
  {
   "cell_type": "code",
   "execution_count": 28,
   "metadata": {},
   "outputs": [],
   "source": [
    "X_sim = df_sim[['rt_log']].values"
   ]
  },
  {
   "cell_type": "code",
   "execution_count": 29,
   "metadata": {},
   "outputs": [
    {
     "data": {
      "text/plain": [
       "(5604, 1)"
      ]
     },
     "execution_count": 29,
     "metadata": {},
     "output_type": "execute_result"
    }
   ],
   "source": [
    "X_sim.shape"
   ]
  },
  {
   "cell_type": "code",
   "execution_count": 30,
   "metadata": {},
   "outputs": [
    {
     "data": {
      "text/plain": [
       "(5604,)"
      ]
     },
     "execution_count": 30,
     "metadata": {},
     "output_type": "execute_result"
    }
   ],
   "source": [
    "y_sim.shape"
   ]
  },
  {
   "cell_type": "code",
   "execution_count": 31,
   "metadata": {},
   "outputs": [],
   "source": [
    "sim_groups = df_sim[\"subj_idx\"].values"
   ]
  },
  {
   "cell_type": "code",
   "execution_count": 32,
   "metadata": {},
   "outputs": [
    {
     "data": {
      "text/plain": [
       "array([ 1,  2,  3,  4,  5,  6,  7,  8,  9, 10, 11, 12, 13, 14, 15, 16, 17,\n",
       "       18, 19, 20, 21, 22, 23, 24, 25, 26])"
      ]
     },
     "execution_count": 32,
     "metadata": {},
     "output_type": "execute_result"
    }
   ],
   "source": [
    "np.unique(sim_groups)"
   ]
  },
  {
   "cell_type": "code",
   "execution_count": 33,
   "metadata": {},
   "outputs": [],
   "source": [
    "sim_scores_lr = cross_validate(pipe_lr, X_sim, y_sim, groups=sim_groups, cv=logo, scoring=my_scores, return_train_score=True)"
   ]
  },
  {
   "cell_type": "code",
   "execution_count": 34,
   "metadata": {},
   "outputs": [
    {
     "data": {
      "text/plain": [
       "0.5234921916409829"
      ]
     },
     "execution_count": 34,
     "metadata": {},
     "output_type": "execute_result"
    }
   ],
   "source": [
    "sim_scores_lr['test_score'].mean()"
   ]
  },
  {
   "cell_type": "code",
   "execution_count": 35,
   "metadata": {},
   "outputs": [],
   "source": [
    "sim_scores_rf = cross_validate(pipe_rf, X_sim, y_sim, groups=sim_groups, cv=logo, scoring=my_scores)"
   ]
  },
  {
   "cell_type": "code",
   "execution_count": 36,
   "metadata": {},
   "outputs": [
    {
     "data": {
      "text/plain": [
       "0.5003517316620013"
      ]
     },
     "execution_count": 36,
     "metadata": {},
     "output_type": "execute_result"
    }
   ],
   "source": [
    "sim_scores_rf['test_score'].mean()"
   ]
  },
  {
   "cell_type": "code",
   "execution_count": 37,
   "metadata": {},
   "outputs": [
    {
     "name": "stderr",
     "output_type": "stream",
     "text": [
      "[Parallel(n_jobs=-1)]: Using backend LokyBackend with 8 concurrent workers.\n",
      "[Parallel(n_jobs=-1)]: Done  34 tasks      | elapsed:    9.3s\n",
      "[Parallel(n_jobs=-1)]: Done 100 out of 100 | elapsed:   23.3s finished\n"
     ]
    }
   ],
   "source": [
    "score_sim_lr, perm_scores_sim_lr, pvalue_sim_lr = permutation_test_score(pipe_lr, X_sim, y_sim, cv=logo, groups=sim_groups, n_permutations=100, n_jobs=-1, random_state=123, verbose=1, scoring=my_scores, fit_params=None)"
   ]
  },
  {
   "cell_type": "code",
   "execution_count": 38,
   "metadata": {},
   "outputs": [
    {
     "name": "stderr",
     "output_type": "stream",
     "text": [
      "[Parallel(n_jobs=-1)]: Using backend LokyBackend with 8 concurrent workers.\n",
      "[Parallel(n_jobs=-1)]: Done  34 tasks      | elapsed:   25.9s\n",
      "[Parallel(n_jobs=-1)]: Done 100 out of 100 | elapsed:  1.1min finished\n"
     ]
    }
   ],
   "source": [
    "score_sim_rf, perm_scores_sim_rf, pvalue_sim_rf = permutation_test_score(pipe_rf, X_sim, y_sim, cv=logo, groups=sim_groups, n_permutations=100, n_jobs=-1, random_state=123, verbose=1, scoring=my_scores, fit_params=None)"
   ]
  },
  {
   "cell_type": "code",
   "execution_count": 39,
   "metadata": {},
   "outputs": [
    {
     "data": {
      "text/plain": [
       "0.5234921916409829"
      ]
     },
     "execution_count": 39,
     "metadata": {},
     "output_type": "execute_result"
    }
   ],
   "source": [
    "score_sim_lr"
   ]
  },
  {
   "cell_type": "code",
   "execution_count": 40,
   "metadata": {},
   "outputs": [
    {
     "data": {
      "text/plain": [
       "0.5003517316620013"
      ]
     },
     "execution_count": 40,
     "metadata": {},
     "output_type": "execute_result"
    }
   ],
   "source": [
    "score_sim_rf"
   ]
  },
  {
   "cell_type": "code",
   "execution_count": 41,
   "metadata": {},
   "outputs": [
    {
     "data": {
      "text/plain": [
       "0.009900990099009901"
      ]
     },
     "execution_count": 41,
     "metadata": {},
     "output_type": "execute_result"
    }
   ],
   "source": [
    "pvalue_sim_lr"
   ]
  },
  {
   "cell_type": "code",
   "execution_count": 42,
   "metadata": {},
   "outputs": [
    {
     "data": {
      "text/plain": [
       "0.36633663366336633"
      ]
     },
     "execution_count": 42,
     "metadata": {},
     "output_type": "execute_result"
    }
   ],
   "source": [
    "pvalue_sim_rf"
   ]
  },
  {
   "attachments": {},
   "cell_type": "markdown",
   "metadata": {},
   "source": [
    "#### permutation importance"
   ]
  },
  {
   "cell_type": "code",
   "execution_count": 56,
   "metadata": {},
   "outputs": [],
   "source": [
    "from sklearn.inspection import permutation_importance"
   ]
  },
  {
   "cell_type": "code",
   "execution_count": 57,
   "metadata": {},
   "outputs": [],
   "source": [
    "pi = list()"
   ]
  },
  {
   "cell_type": "code",
   "execution_count": 62,
   "metadata": {},
   "outputs": [],
   "source": [
    "for train_ix, test_ix in logo.split(X = X_sim, groups=sim_groups):\n",
    "    X_train, X_test = X_sim[train_ix, :], X_sim[test_ix, :]\n",
    "    y_train, y_test = y_sim[train_ix], y_sim[test_ix]\n",
    "    clf = pipe_lr.fit(X_train, y_train)\n",
    "    result = permutation_importance(clf, X_test, y_test, n_repeats=10, random_state=0)\n",
    "    pi.append(result)"
   ]
  },
  {
   "cell_type": "code",
   "execution_count": 63,
   "metadata": {},
   "outputs": [
    {
     "data": {
      "text/plain": [
       "[{'importances_mean': array([0.03443969]),\n",
       "  'importances_std': array([0.00604554]),\n",
       "  'importances': array([[0.04050678, 0.03015703, 0.03658101, 0.03729479, 0.02890792,\n",
       "          0.02159172, 0.04443255, 0.0340828 , 0.03551035, 0.03533191]])},\n",
       " {'importances_mean': array([0.03827623]),\n",
       "  'importances_std': array([0.00661219]),\n",
       "  'importances': array([[0.04264811, 0.0324768 , 0.041399  , 0.04122056, 0.02980014,\n",
       "          0.02498216, 0.04800143, 0.04229122, 0.03925767, 0.04068522]])},\n",
       " {'importances_mean': array([0.03147752]),\n",
       "  'importances_std': array([0.00612414]),\n",
       "  'importances': array([[0.03818701, 0.02926481, 0.0296217 , 0.03426124, 0.0251606 ,\n",
       "          0.01927195, 0.04229122, 0.03087081, 0.03158458, 0.03426124]])},\n",
       " {'importances_mean': array([0.03659886]),\n",
       "  'importances_std': array([0.00646029]),\n",
       "  'importances': array([[0.04157744, 0.03069236, 0.039793  , 0.03997145, 0.02855103,\n",
       "          0.02337616, 0.04550321, 0.03943612, 0.03765168, 0.03943612]])},\n",
       " {'importances_mean': array([0.03493933]),\n",
       "  'importances_std': array([0.00600792]),\n",
       "  'importances': array([[0.041399  , 0.02908637, 0.03747323, 0.03711635, 0.02908637,\n",
       "          0.02284083, 0.0442541 , 0.03497502, 0.03586724, 0.03729479]])},\n",
       " {'importances_mean': array([0.03176303]),\n",
       "  'importances_std': array([0.00593497]),\n",
       "  'importances': array([[0.03729479, 0.02890792, 0.03176303, 0.03319058, 0.02533904,\n",
       "          0.01998572, 0.043005  , 0.0324768 , 0.03176303, 0.03390435]])},\n",
       " {'importances_mean': array([0.03625981]),\n",
       "  'importances_std': array([0.00621323]),\n",
       "  'importances': array([[0.043005  , 0.03122769, 0.03729479, 0.03925767, 0.02926481,\n",
       "          0.02373305, 0.0458601 , 0.03836545, 0.03783012, 0.03675946]])},\n",
       " {'importances_mean': array([0.03338687]),\n",
       "  'importances_std': array([0.0063944]),\n",
       "  'importances': array([[0.04050678, 0.03140614, 0.03283369, 0.03551035, 0.02551749,\n",
       "          0.02034261, 0.04389722, 0.03515346, 0.03336902, 0.03533191]])},\n",
       " {'importances_mean': array([0.03485011]),\n",
       "  'importances_std': array([0.0059205]),\n",
       "  'importances': array([[0.04246966, 0.03051392, 0.03604568, 0.03800857, 0.02837259,\n",
       "          0.02301927, 0.04371877, 0.03533191, 0.03604568, 0.03497502]])},\n",
       " {'importances_mean': array([0.03708066]),\n",
       "  'importances_std': array([0.00648162]),\n",
       "  'importances': array([[0.043005  , 0.03051392, 0.03961456, 0.04014989, 0.02980014,\n",
       "          0.02408994, 0.04675232, 0.03925767, 0.03872234, 0.03890079]])},\n",
       " {'importances_mean': array([0.03265525]),\n",
       "  'importances_std': array([0.00665766]),\n",
       "  'importances': array([[0.0369379 , 0.0280157 , 0.03140614, 0.03729479, 0.02408994,\n",
       "          0.01998572, 0.04371877, 0.03319058, 0.03497502, 0.0369379 ]])},\n",
       " {'importances_mean': array([0.03570664]),\n",
       "  'importances_std': array([0.00598011]),\n",
       "  'importances': array([[0.04122056, 0.03051392, 0.03943612, 0.03568879, 0.03122769,\n",
       "          0.02319772, 0.04603854, 0.03586724, 0.0369379 , 0.0369379 ]])},\n",
       " {'importances_mean': array([0.03047823]),\n",
       "  'importances_std': array([0.00580028]),\n",
       "  'importances': array([[0.03658101, 0.02748037, 0.03104925, 0.03104925, 0.02498216,\n",
       "          0.0190935 , 0.04175589, 0.02997859, 0.03087081, 0.03194147]])},\n",
       " {'importances_mean': array([0.03529622]),\n",
       "  'importances_std': array([0.00678125]),\n",
       "  'importances': array([[0.039793  , 0.02944325, 0.03675946, 0.03961456, 0.02640971,\n",
       "          0.0223055 , 0.04603854, 0.03729479, 0.03943612, 0.03586724]])},\n",
       " {'importances_mean': array([0.03288722]),\n",
       "  'importances_std': array([0.0059248]),\n",
       "  'importances': array([[0.04068522, 0.02694504, 0.0340828 , 0.03479657, 0.0267666 ,\n",
       "          0.02177016, 0.04211278, 0.03390435, 0.03336902, 0.03443969]])},\n",
       " {'importances_mean': array([0.03627766]),\n",
       "  'importances_std': array([0.00619283]),\n",
       "  'importances': array([[0.04282655, 0.03069236, 0.03925767, 0.0369379 , 0.03104925,\n",
       "          0.02337616, 0.04639543, 0.03765168, 0.03729479, 0.03729479]])},\n",
       " {'importances_mean': array([0.03317273]),\n",
       "  'importances_std': array([0.00573883]),\n",
       "  'importances': array([[0.03943612, 0.02765882, 0.03426124, 0.03426124, 0.02765882,\n",
       "          0.02248394, 0.04354033, 0.03390435, 0.03319058, 0.03533191]])},\n",
       " {'importances_mean': array([0.03137045]),\n",
       "  'importances_std': array([0.00552704]),\n",
       "  'importances': array([[0.03818701, 0.02658815, 0.03229836, 0.03211991, 0.0267666 ,\n",
       "          0.02105639, 0.04157744, 0.03087081, 0.03122769, 0.03301213]])},\n",
       " {'importances_mean': array([0.03429693]),\n",
       "  'importances_std': array([0.00612445]),\n",
       "  'importances': array([[0.03836545, 0.02908637, 0.03551035, 0.0385439 , 0.02498216,\n",
       "          0.02444682, 0.04532477, 0.03461813, 0.03568879, 0.03640257]])},\n",
       " {'importances_mean': array([0.03802641]),\n",
       "  'importances_std': array([0.00685116]),\n",
       "  'importances': array([[0.041399  , 0.03122769, 0.04068522, 0.04336188, 0.02765882,\n",
       "          0.02694504, 0.04960742, 0.04014989, 0.04068522, 0.0385439 ]])},\n",
       " {'importances_mean': array([0.03831192]),\n",
       "  'importances_std': array([0.00638722]),\n",
       "  'importances': array([[0.04550321, 0.0324768 , 0.04014989, 0.04122056, 0.03069236,\n",
       "          0.02587438, 0.04782298, 0.04032834, 0.03925767, 0.039793  ]])},\n",
       " {'importances_mean': array([0.03554604]),\n",
       "  'importances_std': array([0.00610727]),\n",
       "  'importances': array([[0.04246966, 0.0296217 , 0.03604568, 0.03783012, 0.02890792,\n",
       "          0.02373305, 0.04514632, 0.03747323, 0.0369379 , 0.03729479]])},\n",
       " {'importances_mean': array([0.03460029]),\n",
       "  'importances_std': array([0.00582747]),\n",
       "  'importances': array([[0.041399  , 0.02908637, 0.03729479, 0.03640257, 0.02890792,\n",
       "          0.02301927, 0.04371877, 0.03461813, 0.03568879, 0.03586724]])},\n",
       " {'importances_mean': array([0.03502855]),\n",
       "  'importances_std': array([0.00624556]),\n",
       "  'importances': array([[0.04014989, 0.02908637, 0.03586724, 0.03925767, 0.02623126,\n",
       "          0.02444682, 0.04550321, 0.03533191, 0.03800857, 0.03640257]])},\n",
       " {'importances_mean': array([0.03845468]),\n",
       "  'importances_std': array([0.00656337]),\n",
       "  'importances': array([[0.04229122, 0.03194147, 0.04086367, 0.04407566, 0.02872948,\n",
       "          0.02748037, 0.04907209, 0.04014989, 0.04068522, 0.03925767]])},\n",
       " {'importances_mean': array([0.03033547]),\n",
       "  'importances_std': array([0.0057916]),\n",
       "  'importances': array([[0.03622413, 0.02551749, 0.02819415, 0.03176303, 0.02462527,\n",
       "          0.02087794, 0.04175589, 0.02837259, 0.03265525, 0.03336902]])},\n",
       " {'importances_mean': array([0.06144068]),\n",
       "  'importances_std': array([0.01708105]),\n",
       "  'importances': array([[0.02542373, 0.06779661, 0.03813559, 0.05932203, 0.07627119,\n",
       "          0.06355932, 0.06779661, 0.05508475, 0.08050847, 0.08050847]])},\n",
       " {'importances_mean': array([0.00776699]),\n",
       "  'importances_std': array([0.02798745]),\n",
       "  'importances': array([[-0.04368932, -0.00485437, -0.04368932,  0.02427184,  0.01456311,\n",
       "           0.03883495,  0.02912621,  0.02912621,  0.01941748,  0.01456311]])},\n",
       " {'importances_mean': array([0.04139535]),\n",
       "  'importances_std': array([0.0211564]),\n",
       "  'importances': array([[0.01860465, 0.0372093 , 0.02790698, 0.0372093 , 0.05581395,\n",
       "          0.06976744, 0.00465116, 0.03255814, 0.05581395, 0.0744186 ]])},\n",
       " {'importances_mean': array([0.04654378]),\n",
       "  'importances_std': array([0.02975474]),\n",
       "  'importances': array([[ 0.06912442,  0.04608295,  0.0921659 ,  0.01843318,  0.05529954,\n",
       "          -0.01382488,  0.03225806,  0.05990783,  0.02764977,  0.07834101]])},\n",
       " {'importances_mean': array([0.05855856]),\n",
       "  'importances_std': array([0.03358802]),\n",
       "  'importances': array([[ 0.09009009,  0.08558559,  0.03153153,  0.07207207,  0.11261261,\n",
       "           0.05855856, -0.00900901,  0.06756757,  0.04954955,  0.02702703]])},\n",
       " {'importances_mean': array([0.03362069]),\n",
       "  'importances_std': array([0.04213569]),\n",
       "  'importances': array([[ 0.04741379, -0.03017241,  0.01293103,  0.04310345,  0.03448276,\n",
       "           0.03448276,  0.12931034,  0.06896552, -0.00431034,  0.        ]])},\n",
       " {'importances_mean': array([0.02711111]),\n",
       "  'importances_std': array([0.02930975]),\n",
       "  'importances': array([[ 0.02666667,  0.        ,  0.00888889,  0.04      ,  0.03555556,\n",
       "           0.04888889,  0.06666667, -0.00888889,  0.07111111, -0.01777778]])},\n",
       " {'importances_mean': array([0.02619048]),\n",
       "  'importances_std': array([0.04206948]),\n",
       "  'importances': array([[ 0.00952381,  0.06190476,  0.02380952,  0.07142857,  0.01428571,\n",
       "           0.01904762,  0.04285714, -0.07619048,  0.08095238,  0.01428571]])},\n",
       " {'importances_mean': array([0.05550661]),\n",
       "  'importances_std': array([0.01991657]),\n",
       "  'importances': array([[0.04845815, 0.00881057, 0.05726872, 0.04845815, 0.05286344,\n",
       "          0.07048458, 0.06167401, 0.05286344, 0.06167401, 0.09251101]])},\n",
       " {'importances_mean': array([0.02]),\n",
       "  'importances_std': array([0.02751181]),\n",
       "  'importances': array([[ 0.05652174,  0.05217391, -0.00869565, -0.02608696,  0.03913043,\n",
       "           0.0173913 , -0.01304348,  0.04782609,  0.0173913 ,  0.0173913 ]])},\n",
       " {'importances_mean': array([0.13990148]),\n",
       "  'importances_std': array([0.03498578]),\n",
       "  'importances': array([[0.18226601, 0.10837438, 0.15270936, 0.13300493, 0.15270936,\n",
       "          0.1182266 , 0.10344828, 0.08866995, 0.20689655, 0.15270936]])},\n",
       " {'importances_mean': array([-0.01483254]),\n",
       "  'importances_std': array([0.02079552]),\n",
       "  'importances': array([[-0.03349282, -0.0430622 ,  0.00956938,  0.        ,  0.02392344,\n",
       "          -0.00956938, -0.01435407, -0.01913876, -0.01913876, -0.0430622 ]])},\n",
       " {'importances_mean': array([0.07969543]),\n",
       "  'importances_std': array([0.02105834]),\n",
       "  'importances': array([[0.08121827, 0.05583756, 0.12182741, 0.08629442, 0.0964467 ,\n",
       "          0.10152284, 0.05583756, 0.05583756, 0.07106599, 0.07106599]])},\n",
       " {'importances_mean': array([0.00295567]),\n",
       "  'importances_std': array([0.01792454]),\n",
       "  'importances': array([[-0.02955665, -0.00985222,  0.02955665,  0.00492611,  0.02955665,\n",
       "           0.00985222,  0.01477833,  0.        , -0.01477833, -0.00492611]])},\n",
       " {'importances_mean': array([0.04380952]),\n",
       "  'importances_std': array([0.0301771]),\n",
       "  'importances': array([[ 0.07619048,  0.02857143,  0.06666667,  0.00952381,  0.04761905,\n",
       "           0.02857143, -0.00952381,  0.02857143,  0.08571429,  0.07619048]])},\n",
       " {'importances_mean': array([-0.00560345]),\n",
       "  'importances_std': array([0.01624834]),\n",
       "  'importances': array([[-0.02586207, -0.01293103,  0.00431034,  0.00862069, -0.02155172,\n",
       "          -0.01293103, -0.00431034,  0.        , -0.02155172,  0.03017241]])},\n",
       " {'importances_mean': array([0.00641711]),\n",
       "  'importances_std': array([0.04316671]),\n",
       "  'importances': array([[-0.01069519, -0.03743316,  0.01604278,  0.06417112,  0.04278075,\n",
       "          -0.05882353,  0.04278075,  0.04812834, -0.05882353,  0.01604278]])},\n",
       " {'importances_mean': array([0.00136364]),\n",
       "  'importances_std': array([0.02456649]),\n",
       "  'importances': array([[-0.03181818,  0.03181818, -0.01363636,  0.03636364, -0.00454545,\n",
       "           0.02727273, -0.02727273,  0.00909091, -0.02727273,  0.01363636]])},\n",
       " {'importances_mean': array([-0.03366834]),\n",
       "  'importances_std': array([0.02292361]),\n",
       "  'importances': array([[-0.04522613, -0.00502513, -0.04020101, -0.06532663, -0.03015075,\n",
       "          -0.06532663, -0.03015075, -0.00502513,  0.        , -0.05025126]])},\n",
       " {'importances_mean': array([0.06607143]),\n",
       "  'importances_std': array([0.02369018]),\n",
       "  'importances': array([[0.06696429, 0.07142857, 0.02678571, 0.0625    , 0.12053571,\n",
       "          0.07142857, 0.05357143, 0.04464286, 0.08482143, 0.05803571]])},\n",
       " {'importances_mean': array([-0.00635593]),\n",
       "  'importances_std': array([0.03743471]),\n",
       "  'importances': array([[ 0.05508475,  0.        , -0.08050847,  0.03813559, -0.04237288,\n",
       "          -0.01271186, -0.01694915,  0.01271186, -0.02966102,  0.01271186]])},\n",
       " {'importances_mean': array([0.03963134]),\n",
       "  'importances_std': array([0.01460182]),\n",
       "  'importances': array([[0.04608295, 0.01843318, 0.05069124, 0.05529954, 0.02764977,\n",
       "          0.03225806, 0.02304147, 0.05529954, 0.05990783, 0.02764977]])},\n",
       " {'importances_mean': array([0.00588235]),\n",
       "  'importances_std': array([0.02497596]),\n",
       "  'importances': array([[ 0.00490196, -0.00980392,  0.04411765,  0.01470588,  0.        ,\n",
       "           0.03921569,  0.0245098 , -0.03921569,  0.00490196, -0.0245098 ]])},\n",
       " {'importances_mean': array([0.10495495]),\n",
       "  'importances_std': array([0.02451129]),\n",
       "  'importances': array([[0.12162162, 0.12612613, 0.12612613, 0.13963964, 0.0990991 ,\n",
       "          0.07207207, 0.05855856, 0.09459459, 0.09459459, 0.11711712]])},\n",
       " {'importances_mean': array([0.05235849]),\n",
       "  'importances_std': array([0.01341647]),\n",
       "  'importances': array([[0.05188679, 0.03301887, 0.06603774, 0.04716981, 0.04245283,\n",
       "          0.06603774, 0.06132075, 0.06132075, 0.06603774, 0.02830189]])},\n",
       " {'importances_mean': array([-0.08038278]),\n",
       "  'importances_std': array([0.02465856]),\n",
       "  'importances': array([[-0.06220096, -0.10047847, -0.11004785, -0.06698565, -0.10047847,\n",
       "          -0.10047847, -0.07177033, -0.0430622 , -0.0430622 , -0.10526316]])}]"
      ]
     },
     "execution_count": 63,
     "metadata": {},
     "output_type": "execute_result"
    }
   ],
   "source": [
    "pi"
   ]
  },
  {
   "attachments": {},
   "cell_type": "markdown",
   "metadata": {},
   "source": [
    "## Analysis for the condition of word_first"
   ]
  },
  {
   "cell_type": "code",
   "execution_count": 295,
   "metadata": {},
   "outputs": [],
   "source": [
    "y_word = df_word[\"valence\"].values"
   ]
  },
  {
   "cell_type": "code",
   "execution_count": 296,
   "metadata": {},
   "outputs": [],
   "source": [
    "X_word = df_word[['rt_log']].values"
   ]
  },
  {
   "cell_type": "code",
   "execution_count": 297,
   "metadata": {},
   "outputs": [
    {
     "data": {
      "text/plain": [
       "(4386,)"
      ]
     },
     "execution_count": 297,
     "metadata": {},
     "output_type": "execute_result"
    }
   ],
   "source": [
    "y_word.shape"
   ]
  },
  {
   "cell_type": "code",
   "execution_count": 298,
   "metadata": {},
   "outputs": [
    {
     "data": {
      "text/plain": [
       "(4386, 1)"
      ]
     },
     "execution_count": 298,
     "metadata": {},
     "output_type": "execute_result"
    }
   ],
   "source": [
    "X_word.shape"
   ]
  },
  {
   "cell_type": "code",
   "execution_count": 299,
   "metadata": {},
   "outputs": [],
   "source": [
    "word_groups = df_word['subj_idx'].values"
   ]
  },
  {
   "cell_type": "code",
   "execution_count": 300,
   "metadata": {},
   "outputs": [
    {
     "data": {
      "text/plain": [
       "array([ 1,  2,  3,  4,  5,  6,  7,  8,  9, 10, 11, 12, 13, 14, 15, 16, 17,\n",
       "       18, 19, 20])"
      ]
     },
     "execution_count": 300,
     "metadata": {},
     "output_type": "execute_result"
    }
   ],
   "source": [
    "np.unique(word_groups)"
   ]
  },
  {
   "cell_type": "code",
   "execution_count": 301,
   "metadata": {},
   "outputs": [],
   "source": [
    "word_scores_lr = cross_validate(pipe_lr, X_word, y_word, groups=word_groups, cv=logo, scoring=my_scores)"
   ]
  },
  {
   "cell_type": "code",
   "execution_count": 302,
   "metadata": {},
   "outputs": [
    {
     "data": {
      "text/plain": [
       "0.5424537357662305"
      ]
     },
     "execution_count": 302,
     "metadata": {},
     "output_type": "execute_result"
    }
   ],
   "source": [
    "word_scores_lr['test_score'].mean()"
   ]
  },
  {
   "cell_type": "code",
   "execution_count": 303,
   "metadata": {},
   "outputs": [],
   "source": [
    "word_scores_rf = cross_validate(pipe_rf, X_word, y_word, groups=word_groups, cv=logo, scoring=my_scores)"
   ]
  },
  {
   "cell_type": "code",
   "execution_count": 304,
   "metadata": {},
   "outputs": [
    {
     "data": {
      "text/plain": [
       "0.5032947358929231"
      ]
     },
     "execution_count": 304,
     "metadata": {},
     "output_type": "execute_result"
    }
   ],
   "source": [
    "word_scores_rf['test_score'].mean()"
   ]
  },
  {
   "cell_type": "code",
   "execution_count": 305,
   "metadata": {},
   "outputs": [
    {
     "name": "stderr",
     "output_type": "stream",
     "text": [
      "[Parallel(n_jobs=-1)]: Using backend LokyBackend with 8 concurrent workers.\n",
      "[Parallel(n_jobs=-1)]: Done  34 tasks      | elapsed:    9.0s\n",
      "[Parallel(n_jobs=-1)]: Done 100 out of 100 | elapsed:   22.5s finished\n"
     ]
    }
   ],
   "source": [
    "score_word_lr, perm_scores_word_lr, pvalue_word_lr = permutation_test_score(pipe_lr, X_word, y_word, cv=logo, groups=word_groups, n_permutations=100, n_jobs=-1, random_state=123, verbose=1, scoring=my_scores, fit_params=None)"
   ]
  },
  {
   "cell_type": "code",
   "execution_count": 306,
   "metadata": {},
   "outputs": [
    {
     "name": "stderr",
     "output_type": "stream",
     "text": [
      "[Parallel(n_jobs=-1)]: Using backend LokyBackend with 8 concurrent workers.\n",
      "[Parallel(n_jobs=-1)]: Done  34 tasks      | elapsed:   18.8s\n",
      "[Parallel(n_jobs=-1)]: Done 100 out of 100 | elapsed:   47.0s finished\n"
     ]
    }
   ],
   "source": [
    "score_word_rf, perm_scores_word_rf, pvalue_word_rf = permutation_test_score(pipe_rf, X_word, y_word, cv=logo, groups=word_groups, n_permutations=100, n_jobs=-1, random_state=123, verbose=1, scoring=my_scores, fit_params=None)"
   ]
  },
  {
   "cell_type": "code",
   "execution_count": 307,
   "metadata": {},
   "outputs": [
    {
     "data": {
      "text/plain": [
       "0.5424537357662305"
      ]
     },
     "execution_count": 307,
     "metadata": {},
     "output_type": "execute_result"
    }
   ],
   "source": [
    "score_word_lr"
   ]
  },
  {
   "cell_type": "code",
   "execution_count": 308,
   "metadata": {},
   "outputs": [
    {
     "data": {
      "text/plain": [
       "0.5032947358929231"
      ]
     },
     "execution_count": 308,
     "metadata": {},
     "output_type": "execute_result"
    }
   ],
   "source": [
    "score_word_rf"
   ]
  },
  {
   "cell_type": "code",
   "execution_count": 309,
   "metadata": {},
   "outputs": [
    {
     "data": {
      "text/plain": [
       "0.009900990099009901"
      ]
     },
     "execution_count": 309,
     "metadata": {},
     "output_type": "execute_result"
    }
   ],
   "source": [
    "pvalue_word_lr"
   ]
  },
  {
   "cell_type": "code",
   "execution_count": 310,
   "metadata": {},
   "outputs": [
    {
     "data": {
      "text/plain": [
       "0.36633663366336633"
      ]
     },
     "execution_count": 310,
     "metadata": {},
     "output_type": "execute_result"
    }
   ],
   "source": [
    "pvalue_word_rf"
   ]
  },
  {
   "attachments": {},
   "cell_type": "markdown",
   "metadata": {},
   "source": [
    "## Analysis for the condition of image_first"
   ]
  },
  {
   "cell_type": "code",
   "execution_count": 311,
   "metadata": {},
   "outputs": [],
   "source": [
    "y_img = df_img['valence'].values"
   ]
  },
  {
   "cell_type": "code",
   "execution_count": 312,
   "metadata": {},
   "outputs": [],
   "source": [
    "X_img = df_img[['rt_log']]"
   ]
  },
  {
   "cell_type": "code",
   "execution_count": 313,
   "metadata": {},
   "outputs": [
    {
     "data": {
      "text/plain": [
       "(4411,)"
      ]
     },
     "execution_count": 313,
     "metadata": {},
     "output_type": "execute_result"
    }
   ],
   "source": [
    "y_img.shape"
   ]
  },
  {
   "cell_type": "code",
   "execution_count": 314,
   "metadata": {},
   "outputs": [
    {
     "data": {
      "text/plain": [
       "(4411, 1)"
      ]
     },
     "execution_count": 314,
     "metadata": {},
     "output_type": "execute_result"
    }
   ],
   "source": [
    "X_img.shape"
   ]
  },
  {
   "cell_type": "code",
   "execution_count": 315,
   "metadata": {},
   "outputs": [],
   "source": [
    "img_groups = df_img['subj_idx'].values"
   ]
  },
  {
   "cell_type": "code",
   "execution_count": 316,
   "metadata": {},
   "outputs": [
    {
     "data": {
      "text/plain": [
       "array([ 1,  2,  3,  4,  5,  6,  7,  8,  9, 10, 11, 12, 13, 14, 15, 16, 17,\n",
       "       18, 19, 20])"
      ]
     },
     "execution_count": 316,
     "metadata": {},
     "output_type": "execute_result"
    }
   ],
   "source": [
    "np.unique(img_groups)"
   ]
  },
  {
   "cell_type": "code",
   "execution_count": 317,
   "metadata": {},
   "outputs": [],
   "source": [
    "img_scores_lr = cross_validate(pipe_lr, X_img, y_img, groups=img_groups, cv=logo, scoring=my_scores)"
   ]
  },
  {
   "cell_type": "code",
   "execution_count": 318,
   "metadata": {},
   "outputs": [
    {
     "data": {
      "text/plain": [
       "0.5369782640836566"
      ]
     },
     "execution_count": 318,
     "metadata": {},
     "output_type": "execute_result"
    }
   ],
   "source": [
    "img_scores_lr['test_score'].mean()"
   ]
  },
  {
   "cell_type": "code",
   "execution_count": 319,
   "metadata": {},
   "outputs": [],
   "source": [
    "img_scores_rf = cross_validate(pipe_rf, X_img, y_img, groups=img_groups, cv=logo, scoring=my_scores)"
   ]
  },
  {
   "cell_type": "code",
   "execution_count": 320,
   "metadata": {},
   "outputs": [
    {
     "data": {
      "text/plain": [
       "0.5149671178638091"
      ]
     },
     "execution_count": 320,
     "metadata": {},
     "output_type": "execute_result"
    }
   ],
   "source": [
    "img_scores_rf['test_score'].mean()"
   ]
  },
  {
   "cell_type": "code",
   "execution_count": 321,
   "metadata": {},
   "outputs": [
    {
     "name": "stderr",
     "output_type": "stream",
     "text": [
      "[Parallel(n_jobs=-1)]: Using backend LokyBackend with 8 concurrent workers.\n",
      "[Parallel(n_jobs=-1)]: Done  34 tasks      | elapsed:    9.9s\n",
      "[Parallel(n_jobs=-1)]: Done 100 out of 100 | elapsed:   24.7s finished\n"
     ]
    }
   ],
   "source": [
    "score_img_lr, perm_scores_img_lr, pvalue_img_lr = permutation_test_score(pipe_lr, X_img, y_img, cv=logo, groups=img_groups, n_permutations=100, n_jobs=-1, random_state=123, verbose=1, scoring=my_scores, fit_params=None)"
   ]
  },
  {
   "cell_type": "code",
   "execution_count": 322,
   "metadata": {},
   "outputs": [
    {
     "name": "stderr",
     "output_type": "stream",
     "text": [
      "[Parallel(n_jobs=-1)]: Using backend LokyBackend with 8 concurrent workers.\n",
      "[Parallel(n_jobs=-1)]: Done  34 tasks      | elapsed:   19.9s\n",
      "[Parallel(n_jobs=-1)]: Done 100 out of 100 | elapsed:   51.9s finished\n"
     ]
    }
   ],
   "source": [
    "score_img_rf, perm_scores_img_rf, pvalue_img_rf = permutation_test_score(pipe_rf, X_img, y_img, cv=logo, groups=img_groups, n_permutations=100, n_jobs=-1, random_state=123, verbose=1, scoring=my_scores, fit_params=None)"
   ]
  },
  {
   "cell_type": "code",
   "execution_count": 323,
   "metadata": {},
   "outputs": [
    {
     "data": {
      "text/plain": [
       "0.5369782640836566"
      ]
     },
     "execution_count": 323,
     "metadata": {},
     "output_type": "execute_result"
    }
   ],
   "source": [
    "score_img_lr"
   ]
  },
  {
   "cell_type": "code",
   "execution_count": 324,
   "metadata": {},
   "outputs": [
    {
     "data": {
      "text/plain": [
       "0.5149671178638091"
      ]
     },
     "execution_count": 324,
     "metadata": {},
     "output_type": "execute_result"
    }
   ],
   "source": [
    "score_img_rf"
   ]
  },
  {
   "cell_type": "code",
   "execution_count": 325,
   "metadata": {},
   "outputs": [
    {
     "data": {
      "text/plain": [
       "0.009900990099009901"
      ]
     },
     "execution_count": 325,
     "metadata": {},
     "output_type": "execute_result"
    }
   ],
   "source": [
    "pvalue_img_lr"
   ]
  },
  {
   "cell_type": "code",
   "execution_count": 326,
   "metadata": {},
   "outputs": [
    {
     "data": {
      "text/plain": [
       "0.10891089108910891"
      ]
     },
     "execution_count": 326,
     "metadata": {},
     "output_type": "execute_result"
    }
   ],
   "source": [
    "pvalue_img_rf"
   ]
  },
  {
   "attachments": {},
   "cell_type": "markdown",
   "metadata": {},
   "source": [
    "# matchness as the dependent variable"
   ]
  },
  {
   "attachments": {},
   "cell_type": "markdown",
   "metadata": {},
   "source": [
    "## Make pipeline"
   ]
  },
  {
   "cell_type": "code",
   "execution_count": 327,
   "metadata": {},
   "outputs": [],
   "source": [
    "pipe_lr_m = make_pipeline(\n",
    "    MinMaxScaler(), \n",
    "    LogisticRegression(solver=\"saga\", max_iter=1000, random_state=123)\n",
    ")"
   ]
  },
  {
   "cell_type": "code",
   "execution_count": 328,
   "metadata": {},
   "outputs": [],
   "source": [
    "pipe_rf_m = make_pipeline(\n",
    "    MinMaxScaler(), \n",
    "    RandomForestClassifier(n_estimators=10, bootstrap=False, random_state=123, class_weight=\"balanced\", max_samples=None)\n",
    ")"
   ]
  },
  {
   "attachments": {},
   "cell_type": "markdown",
   "metadata": {},
   "source": [
    "## Analysis for the condition of simultaneous"
   ]
  },
  {
   "cell_type": "code",
   "execution_count": 329,
   "metadata": {},
   "outputs": [],
   "source": [
    "y_sim_m = df_sim['matchness'].values"
   ]
  },
  {
   "cell_type": "code",
   "execution_count": 330,
   "metadata": {},
   "outputs": [
    {
     "data": {
      "text/plain": [
       "(4304,)"
      ]
     },
     "execution_count": 330,
     "metadata": {},
     "output_type": "execute_result"
    }
   ],
   "source": [
    "y_sim_m.shape"
   ]
  },
  {
   "cell_type": "code",
   "execution_count": 331,
   "metadata": {},
   "outputs": [
    {
     "data": {
      "text/plain": [
       "(4304, 1)"
      ]
     },
     "execution_count": 331,
     "metadata": {},
     "output_type": "execute_result"
    }
   ],
   "source": [
    "X_sim.shape"
   ]
  },
  {
   "cell_type": "code",
   "execution_count": 332,
   "metadata": {},
   "outputs": [],
   "source": [
    "sim_scores_lr_m = cross_validate(pipe_lr_m, X_sim, y_sim_m, groups=sim_groups, cv=logo, scoring=my_scores)"
   ]
  },
  {
   "cell_type": "code",
   "execution_count": 333,
   "metadata": {},
   "outputs": [
    {
     "data": {
      "text/plain": [
       "0.6449849659251353"
      ]
     },
     "execution_count": 333,
     "metadata": {},
     "output_type": "execute_result"
    }
   ],
   "source": [
    "sim_scores_lr_m['test_score'].mean()"
   ]
  },
  {
   "cell_type": "code",
   "execution_count": 334,
   "metadata": {},
   "outputs": [],
   "source": [
    "sim_scores_rf_m = cross_validate(pipe_rf_m, X_sim, y_sim_m, groups=sim_groups, cv=logo, scoring=my_scores)"
   ]
  },
  {
   "cell_type": "code",
   "execution_count": 335,
   "metadata": {},
   "outputs": [
    {
     "data": {
      "text/plain": [
       "0.5681660551444014"
      ]
     },
     "execution_count": 335,
     "metadata": {},
     "output_type": "execute_result"
    }
   ],
   "source": [
    "sim_scores_rf_m['test_score'].mean()"
   ]
  },
  {
   "cell_type": "code",
   "execution_count": 336,
   "metadata": {},
   "outputs": [
    {
     "name": "stderr",
     "output_type": "stream",
     "text": [
      "[Parallel(n_jobs=-1)]: Using backend LokyBackend with 8 concurrent workers.\n",
      "[Parallel(n_jobs=-1)]: Done  34 tasks      | elapsed:    3.4s\n",
      "[Parallel(n_jobs=-1)]: Done 100 out of 100 | elapsed:    8.4s finished\n"
     ]
    }
   ],
   "source": [
    "score_sim_lr_m, perm_scores_sim_lr_m, pvalue_sim_lr_m = permutation_test_score(pipe_lr_m, X_sim, y_sim_m, cv=logo, groups=sim_groups, n_permutations=100, n_jobs=-1, random_state=123, verbose=1, scoring=my_scores, fit_params=None)"
   ]
  },
  {
   "cell_type": "code",
   "execution_count": 337,
   "metadata": {},
   "outputs": [
    {
     "name": "stderr",
     "output_type": "stream",
     "text": [
      "[Parallel(n_jobs=-1)]: Using backend LokyBackend with 8 concurrent workers.\n",
      "[Parallel(n_jobs=-1)]: Done  34 tasks      | elapsed:   20.4s\n",
      "[Parallel(n_jobs=-1)]: Done 100 out of 100 | elapsed:   56.4s finished\n"
     ]
    }
   ],
   "source": [
    "score_sim_rf_m, perm_scores_sim_rf_m, pvalue_sim_rf_m = permutation_test_score(pipe_rf_m, X_sim, y_sim_m, cv=logo, groups=sim_groups, n_permutations=100, n_jobs=-1, random_state=123, verbose=1, scoring=my_scores, fit_params=None)"
   ]
  },
  {
   "cell_type": "code",
   "execution_count": 338,
   "metadata": {},
   "outputs": [
    {
     "data": {
      "text/plain": [
       "0.6449849659251353"
      ]
     },
     "execution_count": 338,
     "metadata": {},
     "output_type": "execute_result"
    }
   ],
   "source": [
    "score_sim_lr_m"
   ]
  },
  {
   "cell_type": "code",
   "execution_count": 339,
   "metadata": {},
   "outputs": [
    {
     "data": {
      "text/plain": [
       "0.5681660551444014"
      ]
     },
     "execution_count": 339,
     "metadata": {},
     "output_type": "execute_result"
    }
   ],
   "source": [
    "score_sim_rf_m"
   ]
  },
  {
   "cell_type": "code",
   "execution_count": 340,
   "metadata": {},
   "outputs": [
    {
     "data": {
      "text/plain": [
       "0.009900990099009901"
      ]
     },
     "execution_count": 340,
     "metadata": {},
     "output_type": "execute_result"
    }
   ],
   "source": [
    "pvalue_sim_lr_m"
   ]
  },
  {
   "cell_type": "code",
   "execution_count": 341,
   "metadata": {},
   "outputs": [
    {
     "data": {
      "text/plain": [
       "0.009900990099009901"
      ]
     },
     "execution_count": 341,
     "metadata": {},
     "output_type": "execute_result"
    }
   ],
   "source": [
    "pvalue_sim_rf_m"
   ]
  },
  {
   "attachments": {},
   "cell_type": "markdown",
   "metadata": {},
   "source": [
    "## Analysis for condition of word_first"
   ]
  },
  {
   "cell_type": "code",
   "execution_count": 342,
   "metadata": {},
   "outputs": [],
   "source": [
    "y_word_m = df_word['matchness'].values"
   ]
  },
  {
   "cell_type": "code",
   "execution_count": 343,
   "metadata": {},
   "outputs": [],
   "source": [
    "word_scores_lr_m = cross_validate(pipe_lr_m, X_word, y_word_m, groups=word_groups, cv=logo, scoring=my_scores)"
   ]
  },
  {
   "cell_type": "code",
   "execution_count": 344,
   "metadata": {},
   "outputs": [
    {
     "data": {
      "text/plain": [
       "0.6331053954596224"
      ]
     },
     "execution_count": 344,
     "metadata": {},
     "output_type": "execute_result"
    }
   ],
   "source": [
    "word_scores_lr_m['test_score'].mean()"
   ]
  },
  {
   "cell_type": "code",
   "execution_count": 345,
   "metadata": {},
   "outputs": [],
   "source": [
    "word_scores_rf_m = cross_validate(pipe_rf_m, X_word, y_word_m, groups=word_groups, cv=logo, scoring=my_scores)"
   ]
  },
  {
   "cell_type": "code",
   "execution_count": 346,
   "metadata": {},
   "outputs": [
    {
     "data": {
      "text/plain": [
       "0.5616882997235634"
      ]
     },
     "execution_count": 346,
     "metadata": {},
     "output_type": "execute_result"
    }
   ],
   "source": [
    "word_scores_rf_m['test_score'].mean()"
   ]
  },
  {
   "cell_type": "code",
   "execution_count": 347,
   "metadata": {},
   "outputs": [
    {
     "name": "stderr",
     "output_type": "stream",
     "text": [
      "[Parallel(n_jobs=-1)]: Using backend LokyBackend with 8 concurrent workers.\n",
      "[Parallel(n_jobs=-1)]: Done  34 tasks      | elapsed:    2.8s\n",
      "[Parallel(n_jobs=-1)]: Done 100 out of 100 | elapsed:    8.3s finished\n"
     ]
    }
   ],
   "source": [
    "score_word_lr_m, perm_scores_word_lr_m, pvalue_word_lr_m = permutation_test_score(pipe_lr_m, X_word, y_word_m, cv=logo, groups=word_groups, n_permutations=100, n_jobs=-1, random_state=123, verbose=1, scoring=my_scores, fit_params=None)"
   ]
  },
  {
   "cell_type": "code",
   "execution_count": 348,
   "metadata": {},
   "outputs": [
    {
     "name": "stderr",
     "output_type": "stream",
     "text": [
      "[Parallel(n_jobs=-1)]: Using backend LokyBackend with 8 concurrent workers.\n",
      "[Parallel(n_jobs=-1)]: Done  34 tasks      | elapsed:   19.7s\n",
      "[Parallel(n_jobs=-1)]: Done 100 out of 100 | elapsed:   53.5s finished\n"
     ]
    }
   ],
   "source": [
    "score_word_rf_m, perm_scores_word_rf_m, pvalue_word_rf_m = permutation_test_score(pipe_rf_m, X_word, y_word_m, cv=logo, groups=word_groups, n_permutations=100, n_jobs=-1, random_state=123, verbose=1, scoring=my_scores, fit_params=None)"
   ]
  },
  {
   "cell_type": "code",
   "execution_count": 349,
   "metadata": {},
   "outputs": [
    {
     "data": {
      "text/plain": [
       "0.6331053954596224"
      ]
     },
     "execution_count": 349,
     "metadata": {},
     "output_type": "execute_result"
    }
   ],
   "source": [
    "score_word_lr_m"
   ]
  },
  {
   "cell_type": "code",
   "execution_count": 350,
   "metadata": {},
   "outputs": [
    {
     "data": {
      "text/plain": [
       "0.5616882997235634"
      ]
     },
     "execution_count": 350,
     "metadata": {},
     "output_type": "execute_result"
    }
   ],
   "source": [
    "score_word_rf_m"
   ]
  },
  {
   "cell_type": "code",
   "execution_count": 351,
   "metadata": {},
   "outputs": [
    {
     "data": {
      "text/plain": [
       "0.009900990099009901"
      ]
     },
     "execution_count": 351,
     "metadata": {},
     "output_type": "execute_result"
    }
   ],
   "source": [
    "pvalue_word_lr_m"
   ]
  },
  {
   "cell_type": "code",
   "execution_count": 352,
   "metadata": {},
   "outputs": [
    {
     "data": {
      "text/plain": [
       "0.009900990099009901"
      ]
     },
     "execution_count": 352,
     "metadata": {},
     "output_type": "execute_result"
    }
   ],
   "source": [
    "pvalue_word_rf_m"
   ]
  },
  {
   "cell_type": "markdown",
   "metadata": {},
   "source": [
    "## Analysis for condition of image_first"
   ]
  },
  {
   "cell_type": "code",
   "execution_count": 353,
   "metadata": {},
   "outputs": [],
   "source": [
    "y_img_m = df_img['matchness'].values"
   ]
  },
  {
   "cell_type": "code",
   "execution_count": 354,
   "metadata": {},
   "outputs": [],
   "source": [
    "img_scores_lr_m = cross_validate(pipe_lr_m, X_img, y_img_m, groups=img_groups, cv=logo, scoring=my_scores)"
   ]
  },
  {
   "cell_type": "code",
   "execution_count": 355,
   "metadata": {},
   "outputs": [
    {
     "data": {
      "text/plain": [
       "0.6108109378647286"
      ]
     },
     "execution_count": 355,
     "metadata": {},
     "output_type": "execute_result"
    }
   ],
   "source": [
    "img_scores_lr_m['test_score'].mean()"
   ]
  },
  {
   "cell_type": "code",
   "execution_count": 356,
   "metadata": {},
   "outputs": [],
   "source": [
    "img_scores_rf_m = cross_validate(pipe_rf_m, X_img, y_img_m, groups=img_groups, cv=logo, scoring=my_scores)"
   ]
  },
  {
   "cell_type": "code",
   "execution_count": 357,
   "metadata": {},
   "outputs": [
    {
     "data": {
      "text/plain": [
       "0.5533277763041702"
      ]
     },
     "execution_count": 357,
     "metadata": {},
     "output_type": "execute_result"
    }
   ],
   "source": [
    "img_scores_rf_m['test_score'].mean()"
   ]
  },
  {
   "cell_type": "code",
   "execution_count": 358,
   "metadata": {},
   "outputs": [
    {
     "name": "stderr",
     "output_type": "stream",
     "text": [
      "[Parallel(n_jobs=-1)]: Using backend LokyBackend with 8 concurrent workers.\n",
      "[Parallel(n_jobs=-1)]: Done  34 tasks      | elapsed:    3.8s\n",
      "[Parallel(n_jobs=-1)]: Done 100 out of 100 | elapsed:    9.9s finished\n"
     ]
    }
   ],
   "source": [
    "score_img_lr_m, perm_scores_img_lr_m, pvalue_img_lr_m = permutation_test_score(pipe_lr_m, X_img, y_img_m, cv=logo, groups=img_groups, n_permutations=100, n_jobs=-1, random_state=123, verbose=1, scoring=my_scores, fit_params=None)"
   ]
  },
  {
   "cell_type": "code",
   "execution_count": 359,
   "metadata": {},
   "outputs": [
    {
     "name": "stderr",
     "output_type": "stream",
     "text": [
      "[Parallel(n_jobs=-1)]: Using backend LokyBackend with 8 concurrent workers.\n",
      "[Parallel(n_jobs=-1)]: Done  34 tasks      | elapsed:   21.9s\n",
      "[Parallel(n_jobs=-1)]: Done 100 out of 100 | elapsed:   58.4s finished\n"
     ]
    }
   ],
   "source": [
    "score_img_rf_m, perm_scores_img_rf_m, pvalue_img_rf_m = permutation_test_score(pipe_rf_m, X_img, y_img_m, cv=logo, groups=img_groups, n_permutations=100, n_jobs=-1, random_state=123, verbose=1, scoring=my_scores, fit_params=None)"
   ]
  },
  {
   "cell_type": "code",
   "execution_count": 360,
   "metadata": {},
   "outputs": [
    {
     "data": {
      "text/plain": [
       "0.009900990099009901"
      ]
     },
     "execution_count": 360,
     "metadata": {},
     "output_type": "execute_result"
    }
   ],
   "source": [
    "pvalue_img_rf_m"
   ]
  },
  {
   "cell_type": "code",
   "execution_count": 361,
   "metadata": {},
   "outputs": [
    {
     "data": {
      "text/plain": [
       "0.5533277763041702"
      ]
     },
     "execution_count": 361,
     "metadata": {},
     "output_type": "execute_result"
    }
   ],
   "source": [
    "score_img_rf_m"
   ]
  },
  {
   "cell_type": "code",
   "execution_count": 362,
   "metadata": {},
   "outputs": [
    {
     "data": {
      "text/plain": [
       "0.6108109378647286"
      ]
     },
     "execution_count": 362,
     "metadata": {},
     "output_type": "execute_result"
    }
   ],
   "source": [
    "score_img_lr_m"
   ]
  },
  {
   "cell_type": "code",
   "execution_count": 363,
   "metadata": {},
   "outputs": [
    {
     "data": {
      "text/plain": [
       "0.009900990099009901"
      ]
     },
     "execution_count": 363,
     "metadata": {},
     "output_type": "execute_result"
    }
   ],
   "source": [
    "pvalue_img_lr_m"
   ]
  },
  {
   "cell_type": "code",
   "execution_count": null,
   "metadata": {},
   "outputs": [],
   "source": []
  }
 ],
 "metadata": {
  "kernelspec": {
   "display_name": "base",
   "language": "python",
   "name": "python3"
  },
  "language_info": {
   "codemirror_mode": {
    "name": "ipython",
    "version": 3
   },
   "file_extension": ".py",
   "mimetype": "text/x-python",
   "name": "python",
   "nbconvert_exporter": "python",
   "pygments_lexer": "ipython3",
   "version": "3.8.13"
  },
  "orig_nbformat": 4,
  "vscode": {
   "interpreter": {
    "hash": "cf397a380d48228a06b798decf63f189c3319dfdb1b8ed74604b310c4db00d54"
   }
  }
 },
 "nbformat": 4,
 "nbformat_minor": 2
}
